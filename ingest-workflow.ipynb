{
 "cells": [
  {
   "cell_type": "markdown",
   "metadata": {},
   "source": [
    "This notebook is intended to give a user a step-by-step walkthrough for creating a collection\n",
    "with custom configuration, and ingesting docs using Python's requests and multiprocessing \n",
    "modules.  To run it, you must have valid service credentials for the \"discods@us.ibm.com\" \n",
    "functional ID.\n",
    "\n",
    "__Note:__ This is not meant to be a rigorous or production-ready workflow.  It is simply meant\n",
    "to facilitate quickly getting a new dataset into WDS."
   ]
  },
  {
   "cell_type": "code",
   "execution_count": null,
   "metadata": {
    "collapsed": true
   },
   "outputs": [],
   "source": [
    "import json\n",
    "import requests\n",
    "import multiprocessing\n",
    "from numpy import array_split\n",
    "import time\n",
    "import pprint\n",
    "\n",
    "pp = pprint.PrettyPrinter(indent=2, width=60)"
   ]
  },
  {
   "cell_type": "code",
   "execution_count": null,
   "metadata": {
    "collapsed": false
   },
   "outputs": [],
   "source": [
    "# REQUIRED: Service credentials for functional ID \"discods@us.ibm.com\"\n",
    "\n",
    "USERNAME = ''\n",
    "PASSWORD = ''"
   ]
  },
  {
   "cell_type": "markdown",
   "metadata": {},
   "source": [
    "### Helper functions"
   ]
  },
  {
   "cell_type": "code",
   "execution_count": null,
   "metadata": {
    "collapsed": false
   },
   "outputs": [],
   "source": [
    "def get_enrichment_template():\n",
    "  '''Returns a blank enrichment object template.'''\n",
    "  \n",
    "  return {\n",
    "    'destination_field': '',\n",
    "    'source_field': '',\n",
    "    'enrichment': 'alchemy_language',\n",
    "    'options': {}\n",
    "  }\n",
    "\n",
    "def render_configuration(config, name, enrichments, description=u''):\n",
    "  '''\n",
    "  Returns a populated configuration JSON. Enrichments can be either\n",
    "  a dictionary representing a one-step workflow, or a list of\n",
    "  such objects indicating multi-step workflow.\n",
    "  '''\n",
    "  \n",
    "  config['name'] = name\n",
    "  config['description'] = description  \n",
    "  \n",
    "  if type(enrichments) is dict:\n",
    "    enrichments = [enrichments]\n",
    "  config['enrichments'] = enrichments\n",
    "  \n",
    "  return config\n",
    "\n",
    "def doc_generator(filename):\n",
    "  '''Yields a dict from line of file if valid JSON.  Else returns False.'''\n",
    "  with open(filename, 'r') as f:\n",
    "    for line in f:\n",
    "      try:\n",
    "        datum = json.loads(line)\n",
    "        yield datum\n",
    "      except:\n",
    "        yield False\n",
    "        \n",
    "def doc_iterator(filename):\n",
    "  '''\n",
    "  Returns a list of JSON documents from newline separated file. We'll simply\n",
    "  skip files that fail the JSON parse and let the user know which line it was.\n",
    "  '''\n",
    "  \n",
    "  data = []\n",
    "  with open(filename, 'r') as f:\n",
    "    for ix, line in enumerate(f):\n",
    "      try:\n",
    "        data.append(json.loads(line))\n",
    "      except:\n",
    "        print('failed to parse line {}'.format(ix))\n",
    "        pass\n",
    "  return data\n",
    "        \n",
    "def delete(kind, guid, env_id=None):\n",
    "  '''Returns response from attempting to delete a collection or configuration.'''\n",
    "  \n",
    "  # Check that we're trying to delete a supported thing.\n",
    "  assert kind in ['collections', 'configurations']\n",
    "  \n",
    "  # Set default environment ID if none specified.\n",
    "  if not env_id:\n",
    "    env_id = ENVIRONMENT_ID\n",
    "  \n",
    "  # Form and populate the url.\n",
    "  url = ('https://gateway.watsonplatform.net/discovery/api/v1/environments/' +\n",
    "         '{}/{}/{}?version=2016-12-01').format(env_id, kind, guid)\n",
    "  \n",
    "  # Execute request and print response.\n",
    "  res = requests.delete(url, auth=(USERNAME, PASSWORD)).json()\n",
    "  print(res)\n",
    "  \n",
    "  return res\n",
    "\n",
    "def insert(args):\n",
    "  '''Insert a document into the collection.  Return False on error.'''\n",
    "  \n",
    "  # Create dictionary for multi-part request.\n",
    "  files = {'file' : ('file', json.dumps(args[1]), 'application/json')}\n",
    "  try:\n",
    "    res = requests.post(args[0], files=files, auth=(USERNAME, PASSWORD))    \n",
    "    return res.json()\n",
    "  except:\n",
    "    return False\n",
    "  \n",
    "def batch_insert(args, processes=4):\n",
    "  '''\n",
    "  Returns list of results from parallel insert. The i-th element\n",
    "  will be False if the request throws an exception for the i-th doc,\n",
    "  otherwise it will contain the JSON response (which might also\n",
    "  indicate failure via status code or message fields).\n",
    "  '''\n",
    "  \n",
    "  pool = multiprocessing.Pool(processes=processes)\n",
    "  result = []\n",
    "  try:\n",
    "    result = map(insert, args)\n",
    "  except:\n",
    "    # If this happens, something outside of requests went wrong...\n",
    "    print('fatal error in multiprocessing call')\n",
    "  finally:\n",
    "    # Regardless of outcome, shut down the pool correctly.\n",
    "    pool.close()\n",
    "    pool.join()\n",
    "  \n",
    "  return result"
   ]
  },
  {
   "cell_type": "markdown",
   "metadata": {},
   "source": [
    "### Select an environment"
   ]
  },
  {
   "cell_type": "code",
   "execution_count": null,
   "metadata": {
    "collapsed": false
   },
   "outputs": [],
   "source": [
    "# First let's get a list of our available environments.\n",
    "\n",
    "url = 'https://gateway.watsonplatform.net/discovery/api/v1/environments?version=2016-12-01'\n",
    "res = requests.get(url, auth=(USERNAME, PASSWORD)).json()\n",
    "env_ids = [x['environment_id'] for x in res['environments']]\n",
    "\n",
    "print(env_ids)"
   ]
  },
  {
   "cell_type": "code",
   "execution_count": null,
   "metadata": {
    "collapsed": false
   },
   "outputs": [],
   "source": [
    "# The e627174c environment is for News.  Let's pick a different one.\n",
    "\n",
    "ENVIRONMENT_ID = env_ids[1]"
   ]
  },
  {
   "cell_type": "markdown",
   "metadata": {},
   "source": [
    "### Create a custom configuration"
   ]
  },
  {
   "cell_type": "code",
   "execution_count": null,
   "metadata": {
    "collapsed": true
   },
   "outputs": [],
   "source": [
    "# Define the collection name and description.\n",
    "\n",
    "NAME = u'arxiv'\n",
    "DESCRIPTION = u'Standard configuration for the arxiv dataset.'"
   ]
  },
  {
   "cell_type": "code",
   "execution_count": null,
   "metadata": {
    "collapsed": false
   },
   "outputs": [],
   "source": [
    "# Load a configuration template that we'll populate with info specific\n",
    "# to this collection.\n",
    "\n",
    "with open('config.json', 'r') as f:\n",
    "  config_template = json.load(f)"
   ]
  },
  {
   "cell_type": "code",
   "execution_count": null,
   "metadata": {
    "collapsed": false
   },
   "outputs": [],
   "source": [
    "# Define the enrichment array for this collection.  At minimum, set\n",
    "# the \"source_field\", \"destination_field\" which will use default \n",
    "# enrichments.  Specific enrichments are specified in \"options\" object.\n",
    "\n",
    "enrichment = get_enrichment_template()\n",
    "enrichment[u'source_field'] = u'abstract'\n",
    "enrichment[u'destination_field'] = u'enriched_abstract'\n",
    "enrichment[u'options'] = {\n",
    "  u'extract': u'keyword, concept, taxonomy'\n",
    "}\n",
    "\n",
    "pp.pprint(enrichment)"
   ]
  },
  {
   "cell_type": "code",
   "execution_count": null,
   "metadata": {
    "collapsed": false
   },
   "outputs": [],
   "source": [
    "# Render the full configuration json.\n",
    "\n",
    "custom_config = render_configuration(config_template, NAME, enrichment, \n",
    "  description=DESCRIPTION)"
   ]
  },
  {
   "cell_type": "markdown",
   "metadata": {},
   "source": [
    "### Register configuration with your environment"
   ]
  },
  {
   "cell_type": "code",
   "execution_count": null,
   "metadata": {
    "collapsed": false
   },
   "outputs": [],
   "source": [
    "# First let's get a list of the currently available configurations to make sure the\n",
    "# new one has a unique \"name\" field.\n",
    "\n",
    "config_url = ('https://gateway.watsonplatform.net/discovery/api/v1/environments/' + \n",
    "  '{env_id}/configurations?version=2016-12-01').format(env_id=ENVIRONMENT_ID)\n",
    "\n",
    "res = requests.get(config_url, auth=(USERNAME, PASSWORD)).json()\n",
    "pp.pprint(res)"
   ]
  },
  {
   "cell_type": "code",
   "execution_count": null,
   "metadata": {
    "collapsed": false
   },
   "outputs": [],
   "source": [
    "# Try to register the new configuration and get its ID.  If failed, print response.\n",
    "\n",
    "res = requests.post(config_url, json=custom_config, auth=(USERNAME, PASSWORD)).json()\n",
    "try:\n",
    "  CONFIGURATION_ID = res['configuration_id']\n",
    "  print('New configuration ID: {}'.format(CONFIGURATION_ID))\n",
    "except:\n",
    "  print(res)"
   ]
  },
  {
   "cell_type": "markdown",
   "metadata": {},
   "source": [
    "### Create a collection using the new configuration"
   ]
  },
  {
   "cell_type": "code",
   "execution_count": null,
   "metadata": {
    "collapsed": false
   },
   "outputs": [],
   "source": [
    "# First let's list the collections that already exist.\n",
    "\n",
    "collections_url = ('https://gateway.watsonplatform.net/discovery/api/v1/environments/' +\n",
    "                   '{env_id}/collections?version=2016-12-01').format(env_id=ENVIRONMENT_ID)\n",
    "\n",
    "res = requests.get(collections_url, auth=(USERNAME, PASSWORD)).json()\n",
    "pp.pprint(res)"
   ]
  },
  {
   "cell_type": "code",
   "execution_count": null,
   "metadata": {
    "collapsed": false
   },
   "outputs": [],
   "source": [
    "# This requires POST-ing a JSON object with some info about collection.\n",
    "\n",
    "collection_info = {\n",
    "  'name': NAME,\n",
    "  'description': DESCRIPTION,\n",
    "  'configuration_id': CONFIGURATION_ID\n",
    "}"
   ]
  },
  {
   "cell_type": "code",
   "execution_count": null,
   "metadata": {
    "collapsed": false
   },
   "outputs": [],
   "source": [
    "# Post the collection JSON and grab the collection ID if successful.\n",
    "\n",
    "res = requests.post(collections_url, auth=(USERNAME, PASSWORD), json=collection_info).json()\n",
    "try:\n",
    "  COLLECTION_ID = res['collection_id']\n",
    "  print('New collection ID: {}'.format(COLLECTION_ID))\n",
    "except:\n",
    "  pp.pprint(res)"
   ]
  },
  {
   "cell_type": "markdown",
   "metadata": {},
   "source": [
    "### Insert documents"
   ]
  },
  {
   "cell_type": "code",
   "execution_count": null,
   "metadata": {
    "collapsed": false
   },
   "outputs": [],
   "source": [
    "# If you're jumping in here, you'll need to manually specify the collection\n",
    "# and configuration ID's manuall.  Otherwise they were set above (hopefully).\n",
    "\n",
    "insert_url = ('https://gateway.watsonplatform.net/discovery/api/v1/' +\n",
    "              'environments/{}/collections/{}/documents?version=2016-12-01' +\n",
    "              '&configuration_id={}').format(ENVIRONMENT_ID, COLLECTION_ID, CONFIGURATION_ID)"
   ]
  },
  {
   "cell_type": "code",
   "execution_count": null,
   "metadata": {
    "collapsed": false
   },
   "outputs": [],
   "source": [
    "# Create a document iterator for small datasets.  For larger datasets\n",
    "# where memory is an issue you'll have to modify the code to use the\n",
    "# doc_generator method instead.\n",
    "\n",
    "# We assume here that the doc file contains newline-separated strings that\n",
    "# can be parsed to JSON.\n",
    "\n",
    "data = doc_iterator('arxiv-iso8602.json')\n",
    "print('read {} documents'.format(len(data)))"
   ]
  },
  {
   "cell_type": "code",
   "execution_count": null,
   "metadata": {
    "collapsed": false
   },
   "outputs": [],
   "source": [
    "# To use multiprocessing we need to zip the url with each document.\n",
    "\n",
    "data = zip([insert_url]*len(data), data)\n",
    "print(len(data))"
   ]
  },
  {
   "cell_type": "code",
   "execution_count": null,
   "metadata": {
    "collapsed": false
   },
   "outputs": [],
   "source": [
    "# Get set up to ingest.\n",
    "\n",
    "# Number of multiprocessing batches.\n",
    "num_batches = 100\n",
    "\n",
    "# Number of processes for multiprocessing.\n",
    "processes = 8\n",
    "\n",
    "# Precompute indices per batch.\n",
    "slices = [list(x) for x in array_split(range(len(data)), num_batches)]"
   ]
  },
  {
   "cell_type": "code",
   "execution_count": null,
   "metadata": {
    "collapsed": true
   },
   "outputs": [],
   "source": [
    "# Ingest!\n",
    "\n",
    "results = []\n",
    "start = time.time()\n",
    "\n",
    "for batch in xrange(num_batches):\n",
    "  ia, ib = slices[batch][0], slices[batch][-1]\n",
    "  results.extend(batch_insert(data, processes=processes))\n",
    "  elapsed = time.time() - start\n",
    "  print('finished batch {}/{} ({:1.0f}%), {:.1f} s'.format(batch+1, num_batches, \n",
    "    (100.*batch+1)/(1.*num_batches), elapsed))"
   ]
  },
  {
   "cell_type": "markdown",
   "metadata": {},
   "source": [
    "### Scratch cells"
   ]
  },
  {
   "cell_type": "code",
   "execution_count": null,
   "metadata": {
    "collapsed": false
   },
   "outputs": [],
   "source": [
    "#res = delete('configurations', CONFIGURATION_ID)\n",
    "#res = delete('collections', '13fa2ffc-26b7-4911-87fb-2e5afaf2b75d')"
   ]
  },
  {
   "cell_type": "code",
   "execution_count": null,
   "metadata": {
    "collapsed": false
   },
   "outputs": [],
   "source": [
    "# import numpy as np\n",
    "# x = range(10)\n",
    "# [list(z) for z in np.array_split(x, 3)]"
   ]
  },
  {
   "cell_type": "code",
   "execution_count": null,
   "metadata": {
    "collapsed": true
   },
   "outputs": [],
   "source": [
    "# # Query document details\n",
    "\n",
    "# doc_url = ('https://gateway.watsonplatform.net/discovery/api/v1/environments/' +\n",
    "#            '{}/collections/{}/documents/{}?version=2016-12-01')\n",
    "\n",
    "# for r in results:\n",
    "#   url_tmp = doc_url.format(ENVIRONMENT_ID, COLLECTION_ID, r['document_id'])\n",
    "#   print(requests.get(url_tmp, auth=(USERNAME, PASSWORD)).json())"
   ]
  },
  {
   "cell_type": "code",
   "execution_count": null,
   "metadata": {
    "collapsed": false
   },
   "outputs": [],
   "source": []
  },
  {
   "cell_type": "code",
   "execution_count": null,
   "metadata": {
    "collapsed": true
   },
   "outputs": [],
   "source": []
  }
 ],
 "metadata": {
  "kernelspec": {
   "display_name": "Python 2",
   "language": "python",
   "name": "python2"
  },
  "language_info": {
   "codemirror_mode": {
    "name": "ipython",
    "version": 2
   },
   "file_extension": ".py",
   "mimetype": "text/x-python",
   "name": "python",
   "nbconvert_exporter": "python",
   "pygments_lexer": "ipython2",
   "version": "2.7.13"
  }
 },
 "nbformat": 4,
 "nbformat_minor": 2
}
